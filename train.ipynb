{
 "cells": [
  {
   "cell_type": "code",
   "execution_count": null,
   "metadata": {},
   "outputs": [],
   "source": [
    "import torch \n",
    "from torch.utils.data import DataLoader\n",
    "from torcheval.metrics import BinaryAUROC\n",
    "\n",
    "import pytorch_lightning as L\n",
    "from pytorch_lightning import loggers as pl_loggers\n",
    "from pytorch_lightning.callbacks import (\n",
    "    EarlyStopping,\n",
    "    LearningRateMonitor,\n",
    "    ModelCheckpoint,\n",
    "    ModelSummary,\n",
    "    StochasticWeightAveraging\n",
    ")\n",
    "\n",
    "\n",
    "import models\n",
    "from dataset.dataset import TropicalCycloneDataset\n",
    "from dataset.transform import *\n",
    "from configs.configs_parser import load_config\n"
   ]
  },
  {
   "cell_type": "code",
   "execution_count": null,
   "metadata": {},
   "outputs": [],
   "source": [
    "# Load config \n",
    "def read_data_list(data_path, file_name):\n",
    "    with open(f\"{data_path}/{file_name}\", \"r\", encoding=\"utf-8\") as f: \n",
    "        data_list = f.read().splitlines()\n",
    "    \n",
    "    return data_list\n",
    "\n",
    "data_config = load_config(\"./configs/dataset_configs.yml\")\n",
    "config = load_config(\"./configs/training_cfg.yml\")\n",
    "\n",
    "\n",
    "\n",
    "torch.set_float32_matmul_precision(\"high\")\n",
    "device = \"cuda\" if torch.cuda.is_available() else \"cpu\""
   ]
  },
  {
   "cell_type": "code",
   "execution_count": null,
   "metadata": {},
   "outputs": [],
   "source": [
    "# Reproducibility\n",
    "seed = config['training']['seed']\n",
    "\n",
    "torch.manual_seed(seed)\n",
    "torch.backends.cudnn.deterministic=True\n",
    "torch.backends.cudnn.benchmark=False\n",
    "\n",
    "L.seed_everything(seed)"
   ]
  },
  {
   "cell_type": "code",
   "execution_count": null,
   "metadata": {},
   "outputs": [],
   "source": [
    "# Load data\n",
    "\n",
    "rootRawData = data_config['data']['rootRawData']\n",
    "rootSplitData = data_config['data']['rootSplitData']\n",
    "maxForecastTime = data_config['data']['maxForecastTime']\n",
    "\n",
    "trainSet = read_data_list(rootSplitData, \"train.txt\")\n",
    "valSet = read_data_list(rootSplitData, \"val.txt\")\n",
    "testSet = read_data_list(rootSplitData, \"test.txt\")\n",
    "\n",
    "\n",
    "\n",
    "varMean, varStd, varIsoChannels = getVarMeanAndStd()\n",
    "norm_Transformers = getNormTrans(varMean, varStd, varIsoChannels)\n",
    "trainAugmenters = getTrainAugmenter(norm_Transformers)\n",
    "evalAugmenters = getTestAugmenter(norm_Transformers)\n",
    "\n",
    "fillMode = \"outlier\"\n",
    "\n",
    "train = TropicalCycloneDataset(trainSet, rootRawData, transforms= trainAugmenters, maxForecastTime = maxForecastTime, fillMode = fillMode)\n",
    "val  = TropicalCycloneDataset(valSet, rootRawData, transforms = evalAugmenters, maxForecastTime = maxForecastTime, fillMode = fillMode)\n",
    "test = TropicalCycloneDataset(testSet, rootRawData, transforms = evalAugmenters, maxForecastTime = maxForecastTime, fillMode = fillMode)\n"
   ]
  },
  {
   "cell_type": "code",
   "execution_count": null,
   "metadata": {},
   "outputs": [],
   "source": [
    "# Data loader\n",
    "\n",
    "\n",
    "batch_size = config['training']['batch_size']\n",
    "num_workers = config['training']['num_workers']\n",
    "pwt = True\n",
    "\n",
    "train_loader = DataLoader(train, batch_size=batch_size, shuffle=True, num_workers=num_workers, persistent_workers=pwt)\n",
    "val_loader = DataLoader(val, batch_size=batch_size, shuffle=False, num_workers= num_workers, persistent_workers= pwt)\n",
    "test_loader = DataLoader(test, batch_size=batch_size, shuffle=False,  num_workers= num_workers,  persistent_workers= pwt)\n",
    "\n",
    "\n"
   ]
  },
  {
   "cell_type": "code",
   "execution_count": null,
   "metadata": {},
   "outputs": [],
   "source": [
    "# Load model wrapper\n",
    "model = models.FullModel(arch=config['training']['model_arch'])\n",
    "wrapper = models.ModelWrapper(model=model, learning_rate=config['training']['learning_rate'], decision_boundary=config['training']['decision_boundary'], pos_weight=config['training']['pos_weight'])\n",
    "\n",
    "torch.cuda.empty_cache()"
   ]
  },
  {
   "cell_type": "code",
   "execution_count": null,
   "metadata": {},
   "outputs": [],
   "source": [
    "# Define trainer\n",
    "\n",
    "\n",
    "\n",
    "training_callbacks = [\n",
    "        EarlyStopping(monitor=\"val_f1\", mode=\"max\", patience=config['training']['early_stopping']),\n",
    "        StochasticWeightAveraging(swa_lrs=1e-2),\n",
    "        LearningRateMonitor(logging_interval=\"step\"),\n",
    "        ModelCheckpoint(\n",
    "            dirpath=config['checkpoint']['save_dir'],\n",
    "            save_top_k=config['checkpoint']['k'],\n",
    "            monitor=\"val_f1\",\n",
    "            filename=\"{epoch:02d}-{val_loss:.4f}-{val_f1:.4f}-{val_recall:.4f}-{val_precision:.4f}\",\n",
    "            save_last=True,\n",
    "            mode=\"max\",\n",
    "        ),\n",
    "        ModelSummary(-1)    \n",
    "    ]\n",
    "\n",
    "tb_logger = pl_loggers.TensorBoardLogger(save_dir=config['logging']['save_dir'])\n",
    "trainer = L.Trainer(max_epochs=config['training']['epochs'], callbacks=training_callbacks, log_every_n_steps=config['logging']['log_every_n_steps'], logger=tb_logger)\n"
   ]
  },
  {
   "cell_type": "code",
   "execution_count": null,
   "metadata": {},
   "outputs": [],
   "source": [
    "# Training\n",
    "trainer.fit(\n",
    "    model=wrapper,\n",
    "    train_dataloaders=train_loader,\n",
    "    val_dataloaders=val_loader,\n",
    "    ckpt_path= None,\n",
    ")"
   ]
  },
  {
   "cell_type": "code",
   "execution_count": null,
   "metadata": {},
   "outputs": [],
   "source": [
    "trainer.test(model=wrapper, \n",
    "            dataloaders=test_loader, \n",
    "            ckpt_path=None)"
   ]
  }
 ],
 "metadata": {
  "kernelspec": {
   "display_name": "Python 3 (ipykernel)",
   "language": "python",
   "name": "python3"
  },
  "language_info": {
   "codemirror_mode": {
    "name": "ipython",
    "version": 3
   },
   "file_extension": ".py",
   "mimetype": "text/x-python",
   "name": "python",
   "nbconvert_exporter": "python",
   "pygments_lexer": "ipython3",
   "version": "3.9.20"
  }
 },
 "nbformat": 4,
 "nbformat_minor": 4
}
